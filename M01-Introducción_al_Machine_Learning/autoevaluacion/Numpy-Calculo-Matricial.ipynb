{
 "cells": [
  {
   "cell_type": "markdown",
   "id": "de1b3133-dc37-4a8e-ae6e-573922fc8045",
   "metadata": {},
   "source": [
    "# Numpy\n",
    "\n",
    "NumPy es una biblioteca de analisis numerico de Python. Python no tiene por ejemplo, soporte nativo para el tratamiento de Arrays. \n",
    "\n",
    "Ref: https://numpy.org/doc/stable/reference/routines.array-creation.html\n",
    "\n"
   ]
  },
  {
   "cell_type": "markdown",
   "id": "74a60501-6295-4a99-a433-1cf3e3542217",
   "metadata": {
    "tags": []
   },
   "source": [
    "### Creacion basada en Parametros de Dimension\n"
   ]
  },
  {
   "cell_type": "markdown",
   "id": "99e56269-344f-4b04-bea1-66e574d07210",
   "metadata": {
    "tags": []
   },
   "source": [
    "#### Array\n",
    "\n",
    "Esto crea un array n-dimensional"
   ]
  },
  {
   "cell_type": "code",
   "execution_count": 1,
   "id": "cc3f00b1-f9c0-43ab-b923-1a63fc7296de",
   "metadata": {},
   "outputs": [
    {
     "name": "stdout",
     "output_type": "stream",
     "text": [
      "[1 2 3]\n",
      "[[1 2]\n",
      " [3 4]]\n"
     ]
    }
   ],
   "source": [
    "\n",
    "import numpy as np\n",
    "array1d = np.array([1, 2, 3])\n",
    "matrix = np.array([[1, 2], [3, 4]])\n",
    "\n",
    "print(array1d)\n",
    "print(matrix)\n",
    "\n"
   ]
  },
  {
   "cell_type": "markdown",
   "id": "11ac4ff1-b85f-4187-ba90-5b73f9ab3614",
   "metadata": {},
   "source": [
    "#### Matriz como Array\n",
    "\n",
    "Interpreta la entrada como una matriz y entonces devuelve un objeto Matriz"
   ]
  },
  {
   "cell_type": "code",
   "execution_count": 2,
   "id": "24a362af-9ef0-4167-bb92-a223ce7117d3",
   "metadata": {},
   "outputs": [
    {
     "name": "stdout",
     "output_type": "stream",
     "text": [
      "1\n"
     ]
    }
   ],
   "source": [
    "import numpy as np\n",
    "\n",
    "x = np.array([[1, 2], [3, 4]])\n",
    "m = np.asmatrix(x)\n",
    "print(x[0,0])\n",
    "\n"
   ]
  },
  {
   "cell_type": "markdown",
   "id": "b3254756-61f3-4ab9-b860-ee24101a7b63",
   "metadata": {},
   "source": [
    "#### Matriz Identidad\n",
    "\n",
    "Una matriz identidad o unidad de orden n es una matriz cuadrada donde todos sus elementos son ceros (0) menos los elementos de la diagonal principal que son unos (1)\n"
   ]
  },
  {
   "cell_type": "code",
   "execution_count": 3,
   "id": "a52fb42c-2783-4655-aebe-f56e770c4142",
   "metadata": {},
   "outputs": [
    {
     "name": "stdout",
     "output_type": "stream",
     "text": [
      "[[1 0 0 0 0 0]\n",
      " [0 1 0 0 0 0]\n",
      " [0 0 1 0 0 0]\n",
      " [0 0 0 1 0 0]\n",
      " [0 0 0 0 1 0]\n",
      " [0 0 0 0 0 1]]\n"
     ]
    }
   ],
   "source": [
    "import numpy as np\n",
    "\n",
    "rows = 6\n",
    "type=int\n",
    "\n",
    "identity = np.identity(rows, dtype=type)\n",
    "print(identity)\n",
    "                    "
   ]
  },
  {
   "cell_type": "markdown",
   "id": "3ba7c8d2-44f4-4670-9fb7-8079f2c8eaf5",
   "metadata": {},
   "source": [
    "#### Matriz Ojo\n",
    "\n",
    "Una matriz ojo es una matriz de identidad de cualquier dimension"
   ]
  },
  {
   "cell_type": "code",
   "execution_count": 4,
   "id": "9f0cebec-7ccd-416b-be53-00d41cef54c8",
   "metadata": {},
   "outputs": [
    {
     "name": "stdout",
     "output_type": "stream",
     "text": [
      "[[1 0 0 0 0 0]\n",
      " [0 1 0 0 0 0]\n",
      " [0 0 1 0 0 0]\n",
      " [0 0 0 1 0 0]\n",
      " [0 0 0 0 1 0]\n",
      " [0 0 0 0 0 1]]\n"
     ]
    }
   ],
   "source": [
    "import numpy as np\n",
    "\n",
    "rows = 6\n",
    "columns = 6\n",
    "index=0 # Desplazamiento de la diagonal hacia arriba o abajo\n",
    "type=int # (int, float, ...)\n",
    "\n",
    "eye = np.eye(N=rows,M=columns, k=index, dtype=type)\n",
    "print(eye)\n"
   ]
  },
  {
   "cell_type": "markdown",
   "id": "0a6f3dd0-e58b-446e-b1c2-0db3eb87b105",
   "metadata": {},
   "source": [
    "#### Matriz de Unos o de Ceros\n",
    "\n",
    "Es una matriz donde todos sus elementos son unos o ceros"
   ]
  },
  {
   "cell_type": "code",
   "execution_count": 5,
   "id": "bdc3434c-e876-436f-9ddf-c888cd4120fd",
   "metadata": {},
   "outputs": [
    {
     "name": "stdout",
     "output_type": "stream",
     "text": [
      "Ones:\n",
      "[[1 1 1 1 1]\n",
      " [1 1 1 1 1]\n",
      " [1 1 1 1 1]\n",
      " [1 1 1 1 1]\n",
      " [1 1 1 1 1]\n",
      " [1 1 1 1 1]]\n",
      "Ones Like:\n",
      "[[1 1 1 1 1 1]\n",
      " [1 1 1 1 1 1]\n",
      " [1 1 1 1 1 1]\n",
      " [1 1 1 1 1 1]\n",
      " [1 1 1 1 1 1]\n",
      " [1 1 1 1 1 1]]\n",
      "Zeros:\n",
      "[[0 0 0 0 0]\n",
      " [0 0 0 0 0]\n",
      " [0 0 0 0 0]\n",
      " [0 0 0 0 0]\n",
      " [0 0 0 0 0]\n",
      " [0 0 0 0 0]]\n",
      "Zeros Like:\n",
      "[[0 0 0 0 0 0]\n",
      " [0 0 0 0 0 0]\n",
      " [0 0 0 0 0 0]\n",
      " [0 0 0 0 0 0]\n",
      " [0 0 0 0 0 0]\n",
      " [0 0 0 0 0 0]]\n"
     ]
    }
   ],
   "source": [
    "import numpy as np\n",
    "\n",
    "rows = 6\n",
    "columns = 5\n",
    "index=0\n",
    "type=int # (int, float, ...)\n",
    "\n",
    "print(\"Ones:\")\n",
    "ones = np.ones((rows,columns), dtype=type)\n",
    "print(ones)\n",
    "\n",
    "rows = 6\n",
    "type=int\n",
    "\n",
    "# Ahora creamos una matriz de unos de la dimension de una\n",
    "# matriz identidad creada previamente.\n",
    "\n",
    "identity = np.identity(rows, dtype=type)\n",
    "\n",
    "ones_like = np.ones_like(identity, dtype=type)\n",
    "print(\"Ones Like:\")\n",
    "print(ones_like)\n",
    "\n",
    "rows = 6\n",
    "columns = 5\n",
    "index=0\n",
    "type=int # (int, float, ...)\n",
    "\n",
    "print(\"Zeros:\")\n",
    "zeros = np.zeros((rows,columns), dtype=type)\n",
    "print(zeros)\n",
    "\n",
    "rows = 6\n",
    "type=int\n",
    "\n",
    "# Ahora creamos una matriz de unos de la dimension de una\n",
    "# matriz identidad creada previamente.\n",
    "\n",
    "identity = np.identity(rows, dtype=type)\n",
    "\n",
    "zeros_like = np.zeros_like(identity, dtype=type)\n",
    "print(\"Zeros Like:\")\n",
    "print(zeros_like)\n"
   ]
  },
  {
   "cell_type": "markdown",
   "id": "6ed40322-4f51-400e-9d1a-d42fafad5d2b",
   "metadata": {
    "tags": []
   },
   "source": [
    "#### Matriz Rellena con Valor X\n",
    "\n",
    "Con estas funciones podemos crear una matriz de rango determinado y rellena con un numero determinado\n",
    "Tambien podemos crear una matriz donde el rango venga determinado por otra matriz previa:\n",
    "\n",
    "\n"
   ]
  },
  {
   "cell_type": "code",
   "execution_count": 6,
   "id": "c75f1ac1-1a31-49e0-85ef-de0d09028a14",
   "metadata": {},
   "outputs": [
    {
     "name": "stdout",
     "output_type": "stream",
     "text": [
      "Full:\n",
      "[[50 50 50 50 50]\n",
      " [50 50 50 50 50]\n",
      " [50 50 50 50 50]\n",
      " [50 50 50 50 50]\n",
      " [50 50 50 50 50]\n",
      " [50 50 50 50 50]]\n",
      "Full Like:\n",
      "[[50 50 50 50 50 50]\n",
      " [50 50 50 50 50 50]\n",
      " [50 50 50 50 50 50]\n",
      " [50 50 50 50 50 50]\n",
      " [50 50 50 50 50 50]\n",
      " [50 50 50 50 50 50]]\n"
     ]
    }
   ],
   "source": [
    "import numpy as np\n",
    "\n",
    "rows = 6\n",
    "columns = 5\n",
    "index=0\n",
    "type=int # (int, float, ...)\n",
    "value = 50\n",
    "\n",
    "print(\"Full:\")\n",
    "full = np.full((rows,columns), fill_value=value, dtype=type)\n",
    "print(full)\n",
    "\n",
    "rows = 6\n",
    "type=int\n",
    "\n",
    "# Ahora creamos una matriz rellena con el valor dado a partir \n",
    "# de la dimension de una\n",
    "# matriz identidad creada previamente.\n",
    "\n",
    "identity = np.identity(rows, dtype=type)\n",
    "\n",
    "full_like = np.full_like(identity, fill_value=value, dtype=type)\n",
    "print(\"Full Like:\")\n",
    "print(full_like)"
   ]
  },
  {
   "cell_type": "markdown",
   "id": "36bd43d4-4a6e-4784-a411-abc54fe3913a",
   "metadata": {},
   "source": [
    "#### Matriz Vacia\n",
    "\n",
    "Con estas funciones creamos una matriz de la dimension especificada pero vacia. \n",
    "Es similar a ones o zeros pero realmente no la rellena con ningun valor por lo que\n",
    "su ejecucion es sustancialmente mas rapida\n"
   ]
  },
  {
   "cell_type": "code",
   "execution_count": 7,
   "id": "b88d406f-56d6-440f-8034-210cbb8f7cb9",
   "metadata": {},
   "outputs": [
    {
     "name": "stdout",
     "output_type": "stream",
     "text": [
      "Empty:\n",
      "[[8070450532247928832 8070450532247928832                  16\n",
      "                    0                   0]\n",
      " [7235419174270214779 4051095836575152674 7291720516583503668\n",
      "  3762248840811720759 7148394817265940835]\n",
      " [3545563488761176673 3180162803108688695 8751724873810518560\n",
      "  8391088052530996592 2459013923021878369]\n",
      " [7308604897285731189 8390051504720984610 8819584575519946351\n",
      "  8319104481851616290 3684542879200341865]\n",
      " [3258463419153004642 7147552564817768805 3919645949801281073\n",
      "  3833746779944465459 7310575177826315298]\n",
      " [3617006442610965026 3554522292206776621 3329342349694286385\n",
      "  2475348352602551603 7598542776403370028]]\n",
      "Empty Like:\n",
      "[[1 0 0 0 0 0]\n",
      " [0 1 0 0 0 0]\n",
      " [0 0 1 0 0 0]\n",
      " [0 0 0 1 0 0]\n",
      " [0 0 0 0 1 0]\n",
      " [0 0 0 0 0 1]]\n"
     ]
    }
   ],
   "source": [
    "import numpy as np\n",
    "\n",
    "rows = 6\n",
    "columns = 5\n",
    "index=0\n",
    "type=int # (int, float, ...)\n",
    "value = 50\n",
    "\n",
    "print(\"Empty:\")\n",
    "empty = np.empty((rows,columns), dtype=type)\n",
    "print(empty)\n",
    "\n",
    "rows = 6\n",
    "type=int\n",
    "\n",
    "# Ahora creamos una matriz rellena con el valor dado a partir \n",
    "# de la dimension de una\n",
    "# matriz identidad creada previamente.\n",
    "\n",
    "identity = np.identity(rows, dtype=type)\n",
    "\n",
    "empty_like = np.empty_like(identity, dtype=type)\n",
    "print(\"Empty Like:\")\n",
    "print(empty_like)"
   ]
  },
  {
   "cell_type": "markdown",
   "id": "342e7f2e-fd18-4eb7-b101-23d09156e885",
   "metadata": {},
   "source": [
    "#### Matrices de Relleno Automatico\n",
    "\n",
    "Crea un array que comienza en start, termina en stop y va de step en step "
   ]
  },
  {
   "cell_type": "code",
   "execution_count": 8,
   "id": "b88a8a2d-c8b9-4923-9611-4f49d7a448f0",
   "metadata": {},
   "outputs": [
    {
     "name": "stdout",
     "output_type": "stream",
     "text": [
      "[100 110 120 130 140 150 160 170 180 190 200 210 220 230 240 250 260 270\n",
      " 280 290 300 310 320 330 340 350 360 370 380 390 400 410 420 430 440 450\n",
      " 460 470 480 490 500 510 520 530 540 550 560 570 580 590 600 610 620 630\n",
      " 640 650 660 670 680 690 700 710 720 730 740 750 760 770 780 790 800 810\n",
      " 820 830 840 850 860 870 880 890 900 910 920 930 940 950 960 970 980 990]\n"
     ]
    }
   ],
   "source": [
    "import numpy as np\n",
    "\n",
    "start=100\n",
    "stop=1000\n",
    "step=10\n",
    "type=int # (int, float, ...)\n",
    "\n",
    "random = np.arange(start = start , stop = stop , step = step)\n",
    "print(random)\n"
   ]
  },
  {
   "cell_type": "markdown",
   "id": "726cee78-7d7c-4458-9ca1-f31a78f5c50f",
   "metadata": {},
   "source": [
    "#### Matriz de Vandermonde\n",
    "\n",
    "Crea la Matriz de Vandermonde a partir de un array de entrada.\n",
    "\n",
    "El increasing es el orden de los pesos de las columnas. If True, the powers increase from left to right, if False (the default) they are reversed.\n",
    "\n",
    "Si el increasing es False, la primera comlumna es $x^{(N-1)}$, la segunda $x^{(N-2)}$ y asi sucesivamente. Si el increasing es True, las columnas son $x^0$, $x^1$, ..., $x^{(N-1)}$.\n",
    " "
   ]
  },
  {
   "cell_type": "code",
   "execution_count": 9,
   "id": "0c1d5b79-27b5-42f8-8977-e5954eb24fe6",
   "metadata": {},
   "outputs": [
    {
     "name": "stdout",
     "output_type": "stream",
     "text": [
      "[[  1   1   1   1]\n",
      " [  8   4   2   1]\n",
      " [ 27   9   3   1]\n",
      " [125  25   5   1]]\n"
     ]
    }
   ],
   "source": [
    "import numpy as np\n",
    "\n",
    "x = np.array([1, 2, 3, 5])\n",
    "vander = np.vander(x, N=None, increasing=False)\n",
    "print(vander)\n"
   ]
  },
  {
   "cell_type": "markdown",
   "id": "b13ba3bf-988f-439f-af05-006229490562",
   "metadata": {},
   "source": [
    "#### Matriz Triangulo, Triangulo Superior e Inferior\n"
   ]
  },
  {
   "cell_type": "markdown",
   "id": "44468db3-5572-43f5-8197-e9405e5105cf",
   "metadata": {},
   "source": [
    "#### Vector a Partir de la Diagonal de una Matriz\n"
   ]
  },
  {
   "cell_type": "code",
   "execution_count": 10,
   "id": "83aa5867-62e4-4585-8bb1-89ed738ce82a",
   "metadata": {},
   "outputs": [
    {
     "name": "stdout",
     "output_type": "stream",
     "text": [
      "[[1 0 0 0 0 0]\n",
      " [0 1 0 0 0 0]\n",
      " [0 0 1 0 0 0]\n",
      " [0 0 0 1 0 0]\n",
      " [0 0 0 0 1 0]\n",
      " [0 0 0 0 0 1]]\n",
      "[0 0 0 0]\n",
      "[1 1 1 1 1 1]\n"
     ]
    }
   ],
   "source": [
    "import numpy as np\n",
    "\n",
    "rows = 6\n",
    "type=int\n",
    "identity = np.identity(rows, dtype=type)\n",
    "selected = 2 # Es la diagonal seleccionada\n",
    "\n",
    "diagonal = np.diag(identity, k=selected)\n",
    "print(identity)\n",
    "diagonal = np.diag(identity, k=selected)\n",
    "print(diagonal)\n",
    "diagonal = np.diag(identity, k=selected-2)\n",
    "print(diagonal)\n"
   ]
  },
  {
   "cell_type": "markdown",
   "id": "0d92374a-1986-42bf-aea5-cf4202886e2e",
   "metadata": {},
   "source": [
    "#### Matriz por Aplicacion de una Funcion\n",
    "\n",
    "Construye un array ejecutando una funcion dada sobre cada elemento\n",
    "Es comun usarla con funciones inline lambda.\n",
    "\n",
    "Muy util para manipular elementos de una matriz y obtener una matriz nueva."
   ]
  },
  {
   "cell_type": "code",
   "execution_count": 13,
   "id": "6f6155db-2829-458e-8c09-e848b7853a94",
   "metadata": {},
   "outputs": [
    {
     "data": {
      "text/plain": [
       "array([[ True, False, False],\n",
       "       [False,  True, False],\n",
       "       [False, False,  True]])"
      ]
     },
     "execution_count": 13,
     "metadata": {},
     "output_type": "execute_result"
    }
   ],
   "source": [
    "import numpy as np\n",
    "\n",
    "# numpy.fromfunction(function, shape, *, dtype=<class 'float'>, like=None, **kwargs)[source]\n",
    "\n",
    "shape = (2,2)\n",
    "type = int\n",
    "\n",
    "np.fromfunction(lambda i, j: i, shape=shape, dtype=type)\n",
    "np.fromfunction(lambda i, j: j, shape=shape, dtype=type)\n",
    "np.fromfunction(lambda i, j: i == j, (3, 3), dtype=int)\n",
    "np.fromfunction(lambda i, j: i == j, (3, 3), dtype=int)\n",
    "\n",
    "\n"
   ]
  },
  {
   "cell_type": "markdown",
   "id": "97daad48-ba40-4591-8749-c02bae493924",
   "metadata": {},
   "source": [
    "#### Array Unidimensional desde una Cadena con Separador\n"
   ]
  },
  {
   "cell_type": "code",
   "execution_count": 14,
   "id": "f0fcced5-2e95-454a-818b-f4c9f3089037",
   "metadata": {},
   "outputs": [
    {
     "name": "stdout",
     "output_type": "stream",
     "text": [
      "[1 2]\n"
     ]
    }
   ],
   "source": [
    "import numpy as np\n",
    "\n",
    "array= np.fromstring('1, 2', dtype=int, sep=',')\n",
    "print(array)"
   ]
  },
  {
   "cell_type": "markdown",
   "id": "7d3cc8f0-3167-4e10-b0af-821766010b17",
   "metadata": {},
   "source": [
    "#### Matriz desde un Archivo de Texto\n",
    "Revisar"
   ]
  },
  {
   "cell_type": "markdown",
   "id": "ea5fe40c-e5a8-485e-8741-860ec9b44ad2",
   "metadata": {
    "tags": []
   },
   "source": [
    "#### Matriz desde un Archivo \n",
    "Revisar\n"
   ]
  },
  {
   "cell_type": "markdown",
   "id": "44c11375-97e0-4f4e-bdb9-d3da6b5c3a91",
   "metadata": {
    "tags": []
   },
   "source": [
    "#### Matriz Aleatoria\n",
    "\n"
   ]
  },
  {
   "cell_type": "code",
   "execution_count": 15,
   "id": "13651a82-e0c8-4546-90ea-96f6c1265b55",
   "metadata": {},
   "outputs": [
    {
     "name": "stdout",
     "output_type": "stream",
     "text": [
      "[[0.69646919 0.28613933 0.22685145]\n",
      " [0.55131477 0.71946897 0.42310646]\n",
      " [0.9807642  0.68482974 0.4809319 ]]\n"
     ]
    }
   ],
   "source": [
    "import numpy as np\n",
    "import numpy.matlib as npm\n",
    "\n",
    "np.random.seed(123)\n",
    "random = npm.rand(3,3)\n",
    "print(random)\n",
    "\n",
    "\n"
   ]
  },
  {
   "cell_type": "markdown",
   "id": "44f0ad73-8d03-40cf-b12e-e47968b87b93",
   "metadata": {
    "tags": []
   },
   "source": [
    "### Algebra Lineal\n"
   ]
  },
  {
   "cell_type": "markdown",
   "id": "76e4f10a-4fdd-4f02-8f9f-d27af27748e8",
   "metadata": {},
   "source": [
    "#### Multiplicacion de Matrices\n"
   ]
  },
  {
   "cell_type": "code",
   "execution_count": 21,
   "id": "b9113d60-367d-42dd-b5b9-6819eb576c2d",
   "metadata": {},
   "outputs": [
    {
     "name": "stdout",
     "output_type": "stream",
     "text": [
      "Matriz A =\n",
      "[[0.69646919 0.28613933 0.22685145]\n",
      " [0.55131477 0.71946897 0.42310646]\n",
      " [0.9807642  0.68482974 0.4809319 ]]\n",
      "Matriz B =\n",
      "[[0.39211752 0.34317802 0.72904971 0.43857224]\n",
      " [0.0596779  0.39804426 0.73799541 0.18249173]\n",
      " [0.17545176 0.53155137 0.53182759 0.63440096]]\n",
      "Matriz A x B =\n",
      "[[0.32997545 0.47349223 0.83957603 0.5015849 ]\n",
      " [0.33335135 0.70048242 1.15792035 0.64150764]\n",
      " [0.50982437 0.86480927 1.47619991 0.86021538]]\n"
     ]
    }
   ],
   "source": [
    "import numpy as np\n",
    "import numpy.matlib as npm\n",
    "\n",
    "np.random.seed(123)\n",
    "random1 = npm.rand(3,3)\n",
    "print(\"Matriz A =\")\n",
    "print(random1)\n",
    "\n",
    "random2 = npm.rand(3,4)\n",
    "print(\"Matriz B =\")\n",
    "print(random2)\n",
    "\n",
    "D = np.matmul(random1,random2)\n",
    "print(\"Matriz A x B =\")\n",
    "print(D)\n",
    "\n"
   ]
  },
  {
   "cell_type": "markdown",
   "id": "d51e8f2c-fca7-4f2b-b789-5d18e4de83bf",
   "metadata": {},
   "source": [
    "#### Producto Vectorial \n"
   ]
  },
  {
   "cell_type": "code",
   "execution_count": 35,
   "id": "e21917ff-c4ea-414f-bc7a-2a8decd4fe6a",
   "metadata": {},
   "outputs": [
    {
     "name": "stdout",
     "output_type": "stream",
     "text": [
      "[ 1  2  3  4  5  6  7  8  9 10]\n",
      "[ 1  3  5  7  9 11 13 15 17 19]\n",
      "715\n",
      "Matriz A:\n",
      "[[1, 0], [0, 1]]\n",
      "Matriz A:\n",
      "[[4, 1], [2, 2]]\n",
      "<A,B>\n",
      "[[4 1]\n",
      " [2 2]]\n"
     ]
    }
   ],
   "source": [
    "\n",
    "import numpy as np\n",
    "\n",
    "array1 = np.arange(1,11,1)\n",
    "array2 = np.arange(1,21,2)\n",
    "print(array1)\n",
    "print(array2)\n",
    "\n",
    "vect = np.dot(array1,array2)\n",
    "print(vect)\n",
    "\n",
    "a = [[1, 0], [0, 1]]\n",
    "b = [[4, 1], [2, 2]]\n",
    "print(\"Matriz A:\")\n",
    "print(a)\n",
    "print(\"Matriz A:\")\n",
    "print(b)\n",
    "print(\"<A,B>\")\n",
    "vect= print(np.dot(a,b))"
   ]
  },
  {
   "cell_type": "markdown",
   "id": "cc24f2ca-d428-4583-a16e-1cc68367b697",
   "metadata": {},
   "source": [
    "#### Suma y Resta de Matrices"
   ]
  },
  {
   "cell_type": "code",
   "execution_count": 46,
   "id": "c0c94ff6-39eb-49b3-b2d9-44184983b5e4",
   "metadata": {},
   "outputs": [
    {
     "name": "stdout",
     "output_type": "stream",
     "text": [
      "Matriz A =\n",
      "[[0.69646919 0.28613933 0.22685145]\n",
      " [0.55131477 0.71946897 0.42310646]\n",
      " [0.9807642  0.68482974 0.4809319 ]]\n",
      "Matriz B =\n",
      "[[0.39211752 0.34317802 0.72904971]\n",
      " [0.43857224 0.0596779  0.39804426]\n",
      " [0.73799541 0.18249173 0.17545176]]\n",
      "Matriz A + B =\n",
      "[[1.0885867  0.62931735 0.95590116]\n",
      " [0.98988701 0.77914687 0.82115072]\n",
      " [1.7187596  0.86732147 0.65638366]]\n",
      "Matriz A - B =\n",
      "[[ 0.30435167 -0.05703868 -0.50219825]\n",
      " [ 0.11274252  0.65979107  0.0250622 ]\n",
      " [ 0.24276879  0.50233801  0.30548015]]\n"
     ]
    }
   ],
   "source": [
    "import numpy as np\n",
    "import numpy.matlib as npm\n",
    "\n",
    "np.random.seed(123)\n",
    "random1 = npm.rand(3,3)\n",
    "print(\"Matriz A =\")\n",
    "print(random1)\n",
    "\n",
    "random2 = npm.rand(3,3)\n",
    "print(\"Matriz B =\")\n",
    "print(random2)\n",
    "\n",
    "D = np.add(random1,random2)\n",
    "print(\"Matriz A + B =\")\n",
    "print(D)\n",
    "\n",
    "\n",
    "D = np.subtract(random1,random2)\n",
    "print(\"Matriz A - B =\")\n",
    "print(D)"
   ]
  },
  {
   "cell_type": "markdown",
   "id": "5048d4db-b2af-473a-a6ad-fb9c4958b8ef",
   "metadata": {
    "tags": []
   },
   "source": [
    "#### Obtener la Suma de los Elementos de una Matriz\n"
   ]
  },
  {
   "cell_type": "code",
   "execution_count": 42,
   "id": "00769b64-81e3-4f8c-bb9c-ef33127be61f",
   "metadata": {},
   "outputs": [
    {
     "name": "stdout",
     "output_type": "stream",
     "text": [
      "Matriz A =\n",
      "[[0.69646919 0.28613933 0.22685145]\n",
      " [0.55131477 0.71946897 0.42310646]\n",
      " [0.9807642  0.68482974 0.4809319 ]]\n",
      "Suma de Elementos:\n",
      "5.049876011559199\n"
     ]
    }
   ],
   "source": [
    "import numpy as np\n",
    "import numpy.matlib as npm\n",
    "\n",
    "np.random.seed(123)\n",
    "random1 = npm.rand(3,3)\n",
    "print(\"Matriz A =\")\n",
    "print(random1)\n",
    "\n",
    "print(\"Suma de Elementos:\")\n",
    "print(np.matrix.sum(random1))"
   ]
  },
  {
   "cell_type": "markdown",
   "id": "8e84d106-0a80-495d-9d27-5d8a1dc9c98f",
   "metadata": {
    "tags": []
   },
   "source": [
    "#### Matriz Traspuesta\n",
    "\n"
   ]
  },
  {
   "cell_type": "code",
   "execution_count": 47,
   "id": "d2cb066b-f13d-4981-8149-47e8a10ee8a4",
   "metadata": {},
   "outputs": [
    {
     "name": "stdout",
     "output_type": "stream",
     "text": [
      "Matriz A =\n",
      "[[0.69646919 0.28613933 0.22685145]\n",
      " [0.55131477 0.71946897 0.42310646]\n",
      " [0.9807642  0.68482974 0.4809319 ]]\n",
      "Matriz T(A)\n",
      "[[0.69646919 0.55131477 0.9807642 ]\n",
      " [0.28613933 0.71946897 0.68482974]\n",
      " [0.22685145 0.42310646 0.4809319 ]]\n"
     ]
    }
   ],
   "source": [
    "import numpy as np\n",
    "import numpy.matlib as npm\n",
    "\n",
    "np.random.seed(123)\n",
    "random1 = npm.rand(3,3)\n",
    "print(\"Matriz A =\")\n",
    "print(random1)\n",
    "\n",
    "print(\"Matriz T(A)\")\n",
    "print(np.transpose(random1))"
   ]
  },
  {
   "cell_type": "markdown",
   "id": "140dc10a-966c-4f26-a8f8-1a318027982e",
   "metadata": {
    "tags": []
   },
   "source": [
    "#### Matriz Inversa\n"
   ]
  },
  {
   "cell_type": "code",
   "execution_count": 48,
   "id": "86dba58d-fc07-4507-babe-b68abd52b33f",
   "metadata": {},
   "outputs": [
    {
     "name": "stdout",
     "output_type": "stream",
     "text": [
      "Matriz A =\n",
      "[[0.69646919 0.28613933 0.22685145]\n",
      " [0.55131477 0.71946897 0.42310646]\n",
      " [0.9807642  0.68482974 0.4809319 ]]\n",
      "Matriz Inversa I(A)\n",
      "[[  7.37388936   2.32530266  -5.52391739]\n",
      " [ 19.63709267  14.74084246 -22.23110727]\n",
      " [-43.00008309 -25.73241835  45.00051613]]\n"
     ]
    }
   ],
   "source": [
    "import numpy as np\n",
    "import numpy.matlib as npm\n",
    "\n",
    "np.random.seed(123)\n",
    "random1 = npm.rand(3,3)\n",
    "print(\"Matriz A =\")\n",
    "print(random1)\n",
    "\n",
    "print(\"Matriz Inversa I(A)\")\n",
    "print(np.linalg.inv(random1))"
   ]
  },
  {
   "cell_type": "code",
   "execution_count": null,
   "id": "7d362feb-d1b1-435d-8239-22f3719c3e78",
   "metadata": {},
   "outputs": [],
   "source": []
  }
 ],
 "metadata": {
  "kernelspec": {
   "display_name": "Python 3 (ipykernel)",
   "language": "python",
   "name": "python3"
  },
  "language_info": {
   "codemirror_mode": {
    "name": "ipython",
    "version": 3
   },
   "file_extension": ".py",
   "mimetype": "text/x-python",
   "name": "python",
   "nbconvert_exporter": "python",
   "pygments_lexer": "ipython3",
   "version": "3.9.13"
  }
 },
 "nbformat": 4,
 "nbformat_minor": 5
}
